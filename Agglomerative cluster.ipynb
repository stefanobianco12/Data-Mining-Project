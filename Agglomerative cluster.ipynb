{
 "cells": [
  {
   "cell_type": "markdown",
   "id": "3cd183ea",
   "metadata": {},
   "source": [
    "<h3> Agglomerative Clustering </h3>"
   ]
  },
  {
   "cell_type": "code",
   "execution_count": 6,
   "id": "3263fe7a",
   "metadata": {},
   "outputs": [],
   "source": [
    "from sklearn.cluster import AgglomerativeClustering\n",
    "import math\n",
    "import numpy as np\n",
    "import pandas as pd\n",
    "import matplotlib.pyplot as plt\n",
    "import seaborn as sns\n",
    "from sklearn.preprocessing import MinMaxScaler\n",
    "from sklearn.cluster import KMeans, DBSCAN, AgglomerativeClustering\n",
    "from sklearn.metrics import silhouette_score\n",
    "from sklearn.metrics import silhouette_samples\n",
    "from sklearn.preprocessing import StandardScaler\n",
    "from sklearn.decomposition import PCA\n",
    "from sklearn.manifold import TSNE"
   ]
  },
  {
   "cell_type": "markdown",
   "id": "c0ae74cd",
   "metadata": {},
   "source": [
    "<h1>Customer 2009</h1>"
   ]
  },
  {
   "cell_type": "code",
   "execution_count": 7,
   "id": "146fe011",
   "metadata": {},
   "outputs": [
    {
     "data": {
      "text/html": [
       "<div>\n",
       "<style scoped>\n",
       "    .dataframe tbody tr th:only-of-type {\n",
       "        vertical-align: middle;\n",
       "    }\n",
       "\n",
       "    .dataframe tbody tr th {\n",
       "        vertical-align: top;\n",
       "    }\n",
       "\n",
       "    .dataframe thead th {\n",
       "        text-align: right;\n",
       "    }\n",
       "</style>\n",
       "<table border=\"1\" class=\"dataframe\">\n",
       "  <thead>\n",
       "    <tr style=\"text-align: right;\">\n",
       "      <th></th>\n",
       "      <th>avgSpent</th>\n",
       "      <th>Nsessions</th>\n",
       "      <th>avgItemSession</th>\n",
       "    </tr>\n",
       "    <tr>\n",
       "      <th>Customer ID</th>\n",
       "      <th></th>\n",
       "      <th></th>\n",
       "      <th></th>\n",
       "    </tr>\n",
       "  </thead>\n",
       "  <tbody>\n",
       "    <tr>\n",
       "      <th>12346.0</th>\n",
       "      <td>3.800</td>\n",
       "      <td>5</td>\n",
       "      <td>5.2</td>\n",
       "    </tr>\n",
       "    <tr>\n",
       "      <th>12358.0</th>\n",
       "      <td>35.890</td>\n",
       "      <td>1</td>\n",
       "      <td>91.0</td>\n",
       "    </tr>\n",
       "    <tr>\n",
       "      <th>12359.0</th>\n",
       "      <td>48.570</td>\n",
       "      <td>2</td>\n",
       "      <td>97.0</td>\n",
       "    </tr>\n",
       "    <tr>\n",
       "      <th>12417.0</th>\n",
       "      <td>23.575</td>\n",
       "      <td>2</td>\n",
       "      <td>74.5</td>\n",
       "    </tr>\n",
       "    <tr>\n",
       "      <th>12422.0</th>\n",
       "      <td>6.650</td>\n",
       "      <td>1</td>\n",
       "      <td>60.0</td>\n",
       "    </tr>\n",
       "    <tr>\n",
       "      <th>...</th>\n",
       "      <td>...</td>\n",
       "      <td>...</td>\n",
       "      <td>...</td>\n",
       "    </tr>\n",
       "    <tr>\n",
       "      <th>18268.0</th>\n",
       "      <td>37.170</td>\n",
       "      <td>1</td>\n",
       "      <td>142.0</td>\n",
       "    </tr>\n",
       "    <tr>\n",
       "      <th>18271.0</th>\n",
       "      <td>26.550</td>\n",
       "      <td>1</td>\n",
       "      <td>44.0</td>\n",
       "    </tr>\n",
       "    <tr>\n",
       "      <th>18275.0</th>\n",
       "      <td>20.650</td>\n",
       "      <td>1</td>\n",
       "      <td>128.0</td>\n",
       "    </tr>\n",
       "    <tr>\n",
       "      <th>18276.0</th>\n",
       "      <td>24.700</td>\n",
       "      <td>1</td>\n",
       "      <td>192.0</td>\n",
       "    </tr>\n",
       "    <tr>\n",
       "      <th>18286.0</th>\n",
       "      <td>50.000</td>\n",
       "      <td>1</td>\n",
       "      <td>108.0</td>\n",
       "    </tr>\n",
       "  </tbody>\n",
       "</table>\n",
       "<p>909 rows × 3 columns</p>\n",
       "</div>"
      ],
      "text/plain": [
       "             avgSpent  Nsessions  avgItemSession\n",
       "Customer ID                                     \n",
       "12346.0         3.800          5             5.2\n",
       "12358.0        35.890          1            91.0\n",
       "12359.0        48.570          2            97.0\n",
       "12417.0        23.575          2            74.5\n",
       "12422.0         6.650          1            60.0\n",
       "...               ...        ...             ...\n",
       "18268.0        37.170          1           142.0\n",
       "18271.0        26.550          1            44.0\n",
       "18275.0        20.650          1           128.0\n",
       "18276.0        24.700          1           192.0\n",
       "18286.0        50.000          1           108.0\n",
       "\n",
       "[909 rows x 3 columns]"
      ]
     },
     "execution_count": 7,
     "metadata": {},
     "output_type": "execute_result"
    }
   ],
   "source": [
    "# Starting dataset\n",
    "df = pd.read_csv('D:/Desktop/DataMining/Customer_2009_subset.csv', sep=',', index_col=0)\n",
    "df"
   ]
  },
  {
   "cell_type": "code",
   "execution_count": 9,
   "id": "ef825ef2",
   "metadata": {},
   "outputs": [],
   "source": [
    "from scipy.cluster.hierarchy import dendrogram\n",
    "\n",
    "def plot_dendrogram(model, **kwargs):\n",
    "    # create linkage matrix and then plot the dendrogram\n",
    "\n",
    "    # create the counts of samples under each node\n",
    "    counts = np.zeros(model.children_.shape[0])\n",
    "    n_samples = len(model.labels_)\n",
    "    for i, merge in enumerate(model.children_):\n",
    "        current_count = 0\n",
    "        for child_idx in merge:\n",
    "            if child_idx < n_samples:\n",
    "                current_count += 1  # leaf node\n",
    "            else:\n",
    "                current_count += counts[child_idx - n_samples]\n",
    "        counts[i] = current_count\n",
    "\n",
    "    linkage_matrix = np.column_stack([model.children_, model.distances_, counts]).astype(float)\n",
    "\n",
    "    # plot the corresponding dendrogram\n",
    "    dendrogram(linkage_matrix, **kwargs)"
   ]
  },
  {
   "cell_type": "markdown",
   "id": "d92002f2",
   "metadata": {},
   "source": [
    "<p>The linkage criterion determines which distance to use between sets of observation. The algorithm will merge the pairs of cluster that minimize this criterion:\n",
    "\n",
    "Ward minimizes the euclidean distance of the clusters being merged (is the hierarchical analogue of K-means, so it can be used to initialize it)\n",
    "strength: less susceptible to noise and outliers\n",
    "limitations: biased towards globular clusters\n",
    "single or maximum linkage uses the minimum of the distances between all observations of the two sets\n",
    "strength: can handle non-elliptical shapes\n",
    "limitations: sensitive to noise and outliers\n",
    "complete or maximum linkage uses the maximum distances between all observations of the two sets\n",
    "strength: less susceptible to noise and outliers\n",
    "limitations: tends to break large clusters, biased towards globular clusters\n",
    "average linkage is a compromise between single and complete linkage by using the average of the distances of each observation of the two sets\n",
    "strength: less susceptible to noise and outliers\n",
    "limitations: biased towards globular clusters </p>"
   ]
  },
  {
   "cell_type": "code",
   "execution_count": 26,
   "id": "7f890356",
   "metadata": {},
   "outputs": [
    {
     "data": {
      "image/png": "[encoded data removed]",
      "text/plain": [
       "<Figure size 432x288 with 1 Axes>"
      ]
     },
     "metadata": {
      "needs_background": "light"
     },
     "output_type": "display_data"
    }
   ],
   "source": [
    "scaler = StandardScaler()\n",
    "std_cust = scaler.fit_transform(df)\n",
    "\n",
    "pca = PCA()\n",
    "pca.fit(std_cust)\n",
    "\n",
    "plt.step(range(1, df.shape[1] + 1), pca.explained_variance_ratio_.cumsum(), \n",
    "         where='mid', label='Cumulative Explained Variance')\n",
    "plt.bar(range(1, df.shape[1] + 1), pca.explained_variance_ratio_, \n",
    "        alpha=0.4, color='g', label='Individual Explained Variance')\n",
    "\n",
    "plt.ylabel('Explained Variance')\n",
    "plt.xlabel('Principal Components')\n",
    "plt.legend(loc='center right');\n",
    "\n",
    "plt.savefig('D:/Desktop/DataMining/cust_pca.png')"
   ]
  },
  {
   "cell_type": "code",
   "execution_count": 14,
   "id": "96f7fe21",
   "metadata": {},
   "outputs": [],
   "source": [
    "ward = AgglomerativeClustering(distance_threshold=0, n_clusters=None, linkage='ward')  # setting distance_threshold=0 ensures we compute the full tree\n",
    "clusters_customers = ward.fit_predict(pca_cust)"
   ]
  },
  {
   "cell_type": "code",
   "execution_count": 27,
   "id": "5e24a99f",
   "metadata": {},
   "outputs": [],
   "source": [
    "pca = PCA(n_components=2)\n",
    "pca_cust = pca.fit_transform(std_cust)"
   ]
  },
  {
   "cell_type": "code",
   "execution_count": 16,
   "id": "1af0c7d7",
   "metadata": {},
   "outputs": [
    {
     "data": {
      "image/png": "[encoded data removed]",
      "text/plain": [
       "<Figure size 432x288 with 1 Axes>"
      ]
     },
     "metadata": {
      "needs_background": "light"
     },
     "output_type": "display_data"
    }
   ],
   "source": [
    "plt.title('Dendrogram with Ward Linkage')\n",
    "plot_dendrogram(ward, truncate_mode='lastp')  # plot the last p non-singleton clusters formed in the linkage\n",
    "\n",
    "plt.savefig('D:/Desktop/DataMining/ward-link_2009.png')"
   ]
  },
  {
   "cell_type": "code",
   "execution_count": 20,
   "id": "5bd16eda",
   "metadata": {},
   "outputs": [],
   "source": [
    "#two clusters\n",
    "ward = AgglomerativeClustering(distance_threshold=None, n_clusters=4, linkage='ward')\n",
    "clusters_customers = ward.fit_predict(pca_cust)"
   ]
  },
  {
   "cell_type": "code",
   "execution_count": 21,
   "id": "ab168ffd",
   "metadata": {},
   "outputs": [
    {
     "data": {
      "image/png": "[encoded data removed]",
      "text/plain": [
       "<Figure size 432x288 with 1 Axes>"
      ]
     },
     "metadata": {
      "needs_background": "light"
     },
     "output_type": "display_data"
    }
   ],
   "source": [
    "plt.xlabel('pca_1')\n",
    "plt.ylabel('pca_2')\n",
    "plt.scatter(*pca_cust.T, c=clusters_customers, s=20, alpha=0.7);"
   ]
  },
  {
   "cell_type": "code",
   "execution_count": 22,
   "id": "34db9beb",
   "metadata": {},
   "outputs": [
    {
     "data": {
      "text/html": [
       "<div>\n",
       "<style scoped>\n",
       "    .dataframe tbody tr th:only-of-type {\n",
       "        vertical-align: middle;\n",
       "    }\n",
       "\n",
       "    .dataframe tbody tr th {\n",
       "        vertical-align: top;\n",
       "    }\n",
       "\n",
       "    .dataframe thead th {\n",
       "        text-align: right;\n",
       "    }\n",
       "</style>\n",
       "<table border=\"1\" class=\"dataframe\">\n",
       "  <thead>\n",
       "    <tr style=\"text-align: right;\">\n",
       "      <th></th>\n",
       "      <th>0</th>\n",
       "      <th>1</th>\n",
       "      <th>2</th>\n",
       "      <th>3</th>\n",
       "    </tr>\n",
       "  </thead>\n",
       "  <tbody>\n",
       "    <tr>\n",
       "      <th>CustomersNb</th>\n",
       "      <td>730</td>\n",
       "      <td>134</td>\n",
       "      <td>44</td>\n",
       "      <td>1</td>\n",
       "    </tr>\n",
       "  </tbody>\n",
       "</table>\n",
       "</div>"
      ],
      "text/plain": [
       "               0    1   2  3\n",
       "CustomersNb  730  134  44  1"
      ]
     },
     "execution_count": 22,
     "metadata": {},
     "output_type": "execute_result"
    }
   ],
   "source": [
    "pd.DataFrame(pd.Series(clusters_customers).value_counts(), columns=['CustomersNb']).T.sort_index(axis=1)\n"
   ]
  },
  {
   "cell_type": "code",
   "execution_count": 25,
   "id": "a713ebac",
   "metadata": {},
   "outputs": [
    {
     "data": {
      "image/png": "[encoded data removed]",
      "text/plain": [
       "<Figure size 432x288 with 1 Axes>"
      ]
     },
     "metadata": {
      "needs_background": "light"
     },
     "output_type": "display_data"
    }
   ],
   "source": [
    "#NO PCA\n",
    "plt.xlabel('std_1')\n",
    "plt.ylabel('std_2')\n",
    "plt.scatter(std_cust[:, 0], std_cust[:, 1], c=clusters_customers, s=20, alpha=0.7);\n"
   ]
  },
  {
   "cell_type": "code",
   "execution_count": 28,
   "id": "f3113f67",
   "metadata": {},
   "outputs": [
    {
     "data": {
      "text/html": [
       "<div>\n",
       "<style scoped>\n",
       "    .dataframe tbody tr th:only-of-type {\n",
       "        vertical-align: middle;\n",
       "    }\n",
       "\n",
       "    .dataframe tbody tr th {\n",
       "        vertical-align: top;\n",
       "    }\n",
       "\n",
       "    .dataframe thead th {\n",
       "        text-align: right;\n",
       "    }\n",
       "</style>\n",
       "<table border=\"1\" class=\"dataframe\">\n",
       "  <thead>\n",
       "    <tr style=\"text-align: right;\">\n",
       "      <th></th>\n",
       "      <th>avgSpent</th>\n",
       "      <th>Nsessions</th>\n",
       "      <th>avgItemSession</th>\n",
       "      <th>cluster</th>\n",
       "    </tr>\n",
       "    <tr>\n",
       "      <th>Customer ID</th>\n",
       "      <th></th>\n",
       "      <th></th>\n",
       "      <th></th>\n",
       "      <th></th>\n",
       "    </tr>\n",
       "  </thead>\n",
       "  <tbody>\n",
       "    <tr>\n",
       "      <th>12346.0</th>\n",
       "      <td>3.800</td>\n",
       "      <td>5</td>\n",
       "      <td>5.2</td>\n",
       "      <td>0</td>\n",
       "    </tr>\n",
       "    <tr>\n",
       "      <th>12358.0</th>\n",
       "      <td>35.890</td>\n",
       "      <td>1</td>\n",
       "      <td>91.0</td>\n",
       "      <td>0</td>\n",
       "    </tr>\n",
       "    <tr>\n",
       "      <th>12359.0</th>\n",
       "      <td>48.570</td>\n",
       "      <td>2</td>\n",
       "      <td>97.0</td>\n",
       "      <td>0</td>\n",
       "    </tr>\n",
       "    <tr>\n",
       "      <th>12417.0</th>\n",
       "      <td>23.575</td>\n",
       "      <td>2</td>\n",
       "      <td>74.5</td>\n",
       "      <td>0</td>\n",
       "    </tr>\n",
       "    <tr>\n",
       "      <th>12422.0</th>\n",
       "      <td>6.650</td>\n",
       "      <td>1</td>\n",
       "      <td>60.0</td>\n",
       "      <td>0</td>\n",
       "    </tr>\n",
       "    <tr>\n",
       "      <th>...</th>\n",
       "      <td>...</td>\n",
       "      <td>...</td>\n",
       "      <td>...</td>\n",
       "      <td>...</td>\n",
       "    </tr>\n",
       "    <tr>\n",
       "      <th>18268.0</th>\n",
       "      <td>37.170</td>\n",
       "      <td>1</td>\n",
       "      <td>142.0</td>\n",
       "      <td>0</td>\n",
       "    </tr>\n",
       "    <tr>\n",
       "      <th>18271.0</th>\n",
       "      <td>26.550</td>\n",
       "      <td>1</td>\n",
       "      <td>44.0</td>\n",
       "      <td>0</td>\n",
       "    </tr>\n",
       "    <tr>\n",
       "      <th>18275.0</th>\n",
       "      <td>20.650</td>\n",
       "      <td>1</td>\n",
       "      <td>128.0</td>\n",
       "      <td>0</td>\n",
       "    </tr>\n",
       "    <tr>\n",
       "      <th>18276.0</th>\n",
       "      <td>24.700</td>\n",
       "      <td>1</td>\n",
       "      <td>192.0</td>\n",
       "      <td>0</td>\n",
       "    </tr>\n",
       "    <tr>\n",
       "      <th>18286.0</th>\n",
       "      <td>50.000</td>\n",
       "      <td>1</td>\n",
       "      <td>108.0</td>\n",
       "      <td>0</td>\n",
       "    </tr>\n",
       "  </tbody>\n",
       "</table>\n",
       "<p>909 rows × 4 columns</p>\n",
       "</div>"
      ],
      "text/plain": [
       "             avgSpent  Nsessions  avgItemSession  cluster\n",
       "Customer ID                                              \n",
       "12346.0         3.800          5             5.2        0\n",
       "12358.0        35.890          1            91.0        0\n",
       "12359.0        48.570          2            97.0        0\n",
       "12417.0        23.575          2            74.5        0\n",
       "12422.0         6.650          1            60.0        0\n",
       "...               ...        ...             ...      ...\n",
       "18268.0        37.170          1           142.0        0\n",
       "18271.0        26.550          1            44.0        0\n",
       "18275.0        20.650          1           128.0        0\n",
       "18276.0        24.700          1           192.0        0\n",
       "18286.0        50.000          1           108.0        0\n",
       "\n",
       "[909 rows x 4 columns]"
      ]
     },
     "execution_count": 28,
     "metadata": {},
     "output_type": "execute_result"
    }
   ],
   "source": [
    "customer_ward = df.copy(deep=True)\n",
    "customer_ward['cluster'] = clusters_customers\n",
    "customer_ward['cluster'] = customer_ward['cluster']\n",
    "customer_ward"
   ]
  },
  {
   "cell_type": "code",
   "execution_count": 29,
   "id": "d200c91f",
   "metadata": {},
   "outputs": [
    {
     "data": {
      "image/png": "[encoded data removed]",
      "text/plain": [
       "<Figure size 366.375x324 with 12 Axes>"
      ]
     },
     "metadata": {
      "needs_background": "light"
     },
     "output_type": "display_data"
    }
   ],
   "source": [
    "sns.pairplot(customer_ward, hue='cluster', diag_kind='kde', height=1.5);"
   ]
  },
  {
   "cell_type": "code",
   "execution_count": null,
   "id": "1839f22e",
   "metadata": {},
   "outputs": [],
   "source": []
  }
 ],
 "metadata": {
  "kernelspec": {
   "display_name": "Python 3 (ipykernel)",
   "language": "python",
   "name": "python3"
  },
  "language_info": {
   "codemirror_mode": {
    "name": "ipython",
    "version": 3
   },
   "file_extension": ".py",
   "mimetype": "text/x-python",
   "name": "python",
   "nbconvert_exporter": "python",
   "pygments_lexer": "ipython3",
   "version": "3.9.7"
  }
 },
 "nbformat": 4,
 "nbformat_minor": 5
}
